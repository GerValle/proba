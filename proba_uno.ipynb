{
 "cells": [
  {
   "cell_type": "markdown",
   "metadata": {},
   "source": [
    "## Problema de los ases\n",
    "\n",
    "Supongmos que repartimos las 52 cartas de una baraja a cuatro jugadores, de modo que cada uno tenga 13 cartas. \n",
    "\n",
    "Si la baraja fue mezclada con cuidado... ¿Cuál es la probabilidad de que cada jugador obtenga exactamente un AS?"
   ]
  },
  {
   "cell_type": "markdown",
   "metadata": {},
   "source": [
    "### Construcción del mazo.\n",
    "\n",
    "La estrategia para estimar la probabilidad consiste en simular un número suficiente de reparticiones. Para ello primero construimos una clase que represente un mazo común: "
   ]
  },
  {
   "cell_type": "code",
   "execution_count": 1,
   "metadata": {},
   "outputs": [],
   "source": [
    "import collections\n",
    "import random\n",
    "\n",
    "Carta = collections.namedtuple('Carta', ['numero', 'palo'])\n",
    "\n",
    "class mazo:\n",
    "    numeros = [str(n) for n in range(2, 11)] + list('JQKA')\n",
    "    palos = 'espadas diamantes treboles corazones'.split()\n",
    "    \n",
    "    def __init__(self):\n",
    "        self._cartas = [Carta(numero, palo) for palo in self.palos\n",
    "                                            for numero in self.numeros]\n",
    "        \n",
    "    def __len__(self):\n",
    "        return len(self._cartas)\n",
    "\n",
    "    def __getitem__(self, posicion):\n",
    "        return self._cartas[posicion]\n",
    "    \n",
    "    def shuffle(self):\n",
    "        random.shuffle(self._cartas)\n"
   ]
  },
  {
   "cell_type": "markdown",
   "metadata": {},
   "source": [
    "### Simulación"
   ]
  },
  {
   "cell_type": "code",
   "execution_count": null,
   "metadata": {},
   "outputs": [],
   "source": [
    "def proba_cartas(n):\n",
    "    mi_mazo = mazo()  #Inicializamos el mazo.\n",
    "    num_favorables = 0\n",
    "    \n",
    "    for i in range(n):\n",
    "        mi_mazo.shuffle()\n",
    "        as_uno, as_dos, as_tres, as_cuatro = [i +1 for i, c in enumerate(mi_mazo) if c.numero == 'A']\n",
    "        favorable = all([as_uno <= 13, \n",
    "                         13 < as_dos <= 26 , \n",
    "                         26 < as_tres <= 39, \n",
    "                         39 <as_cuatro])\n",
    "    \n",
    "        num_favorables = num_favorables + favorable\n",
    "        \n",
    "    return num_favorables / n"
   ]
  },
  {
   "cell_type": "markdown",
   "metadata": {},
   "source": [
    "#### Estimamos la probabilidad:"
   ]
  },
  {
   "cell_type": "code",
   "execution_count": 1,
   "metadata": {},
   "outputs": [
    {
     "name": "stdout",
     "output_type": "stream",
     "text": [
      "\tProba: 10.46000%\n"
     ]
    }
   ],
   "source": [
    "n = 10000\n",
    "\n",
    "proba = proba_cartas(n)\n",
    "\n",
    "print(f\"\\tProba: {proba:.5%}\")"
   ]
  },
  {
   "cell_type": "markdown",
   "metadata": {},
   "source": [
    "### Problema del Cumpleaños"
   ]
  },
  {
   "cell_type": "code",
   "execution_count": 3,
   "metadata": {},
   "outputs": [
    {
     "name": "stdout",
     "output_type": "stream",
     "text": [
      "n: 23 -- proba: 50.73%\n"
     ]
    }
   ],
   "source": [
    "def proba_cumples(n):\n",
    "     \n",
    "    def proba_complemento(n):\n",
    "        \n",
    "        if isinstance(n, int):\n",
    "    \n",
    "            if n > 1:\n",
    "                return (365-n +1)/365 * proba_complemento(n-1)\n",
    "    \n",
    "            elif n == 1:\n",
    "                return 365/365\n",
    "    \n",
    "            else:\n",
    "                raise ValueError\n",
    "            \n",
    "        else:\n",
    "            raise TypeError\n",
    "\n",
    "    return 1-proba_complemento(n)\n",
    "\n",
    "n = 23\n",
    "p = proba_cumples(n)\n",
    "\n",
    "print(f\"n: {n} -- proba: {p:.2%}\")"
   ]
  },
  {
   "cell_type": "markdown",
   "metadata": {},
   "source": [
    "### Forma alternativa:"
   ]
  },
  {
   "cell_type": "code",
   "execution_count": 3,
   "metadata": {},
   "outputs": [
    {
     "name": "stdout",
     "output_type": "stream",
     "text": [
      "n: 22 -- proba: 47.57%\n"
     ]
    }
   ],
   "source": [
    "def proba_cumpleanios(n):\n",
    "    \"\"\"Funcion que calcual la probabilidad\n",
    "    de que al menos dos person....\n",
    "    \"\"\"\n",
    "    p = 1\n",
    "    for i in range(n):\n",
    "        #p= (365-i)/365 * p\n",
    "        p *= (365-i)/365\n",
    "    \n",
    "    return 1-p\n",
    "\n",
    "n = 22\n",
    "p = proba_cumpleanios(n)\n",
    "\n",
    "print(f\"n: {n} -- proba: {p:.2%}\")\n",
    "\n",
    "    "
   ]
  },
  {
   "cell_type": "code",
   "execution_count": 17,
   "metadata": {},
   "outputs": [
    {
     "name": "stdout",
     "output_type": "stream",
     "text": [
      "\n",
      "    Hola muchachos!\n",
      "    Como les va\n",
      "    \n",
      "3\n",
      "\n",
      "    Hola muchachos!\n",
      "    Como les va\n",
      "    \n",
      "13\n",
      "\n",
      "    Hola muchachos!\n",
      "    Como les va\n",
      "    \n",
      "23\n",
      "\n",
      "    Hola muchachos!\n",
      "    Como les va\n",
      "    \n",
      "33\n",
      "\n",
      "    Hola muchachos!\n",
      "    Como les va\n",
      "    \n",
      "43\n",
      "\n",
      "    Hola muchachos!\n",
      "    Como les va\n",
      "    \n",
      "53\n",
      "\n",
      "    Hola muchachos!\n",
      "    Como les va\n",
      "    \n",
      "63\n",
      "\n",
      "    Hola muchachos!\n",
      "    Como les va\n",
      "    \n",
      "73\n",
      "\n",
      "    Hola muchachos!\n",
      "    Como les va\n",
      "    \n",
      "83\n",
      "\n",
      "    Hola muchachos!\n",
      "    Como les va\n",
      "    \n",
      "93\n",
      "Estoy fuera del for\n"
     ]
    }
   ],
   "source": [
    "for i in lista:\n",
    "    texto = \"\"\"\n",
    "    Hola muchachos!\n",
    "    Como les va\n",
    "    \"\"\"\n",
    "    print(texto)\n",
    "    i = i + 2\n",
    "    print(i)\n",
    "\n",
    "print(\"Estoy fuera del for\")"
   ]
  },
  {
   "cell_type": "code",
   "execution_count": 14,
   "metadata": {},
   "outputs": [
    {
     "name": "stdout",
     "output_type": "stream",
     "text": [
      "[1, 11, 21, 31, 41, 51, 61, 71, 81, 91]\n"
     ]
    }
   ],
   "source": [
    "lista = list(range(1,100, 10))\n",
    "\n",
    "print(lista)\n"
   ]
  },
  {
   "cell_type": "code",
   "execution_count": 10,
   "metadata": {},
   "outputs": [
    {
     "data": {
      "text/plain": [
       "[0, 1, 2, 3]"
      ]
     },
     "execution_count": 10,
     "metadata": {},
     "output_type": "execute_result"
    }
   ],
   "source": [
    "lista[0:4]"
   ]
  },
  {
   "cell_type": "code",
   "execution_count": null,
   "metadata": {},
   "outputs": [],
   "source": []
  }
 ],
 "metadata": {
  "kernelspec": {
   "display_name": "Python 3",
   "language": "python",
   "name": "python3"
  },
  "language_info": {
   "codemirror_mode": {
    "name": "ipython",
    "version": 3
   },
   "file_extension": ".py",
   "mimetype": "text/x-python",
   "name": "python",
   "nbconvert_exporter": "python",
   "pygments_lexer": "ipython3",
   "version": "3.6.6+"
  }
 },
 "nbformat": 4,
 "nbformat_minor": 2
}
